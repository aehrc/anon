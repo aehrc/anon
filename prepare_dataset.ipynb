{
 "cells": [
  {
   "cell_type": "code",
   "execution_count": 4,
   "metadata": {},
   "outputs": [],
   "source": [
    "import transformers"
   ]
  },
  {
   "cell_type": "code",
   "execution_count": 5,
   "metadata": {},
   "outputs": [],
   "source": [
    "# Paths:\n",
    "physionet_dir = '/home/user/datasets/physionet.org/files'  # Where MIMIC-CXR, MIMIC-CXR-JPG, and MIMIC-IV-ED are stored.\n",
    "dataset_dir = '/home/user/datasets'  # Some outputs of prepare_data() will be stored here.\n",
    "database_path = '/home/user/database/cxrmate_ed.db'  # The DuckDB database used to manage the tables of the dataset will be saved here."
   ]
  },
  {
   "cell_type": "code",
   "execution_count": null,
   "metadata": {},
   "outputs": [],
   "source": [
    "# Prepare the MIMIC-CXR & MIMIC-IV-ED dataset:\n",
    "model = transformers.AutoModel.from_pretrained('aehrc/cxrmate-ed', trust_remote_code=True)\n",
    "model.prepare_data(\n",
    "    physionet_dir=physionet_dir,\n",
    "    dataset_dir=dataset_dir,\n",
    "    database_path=database_path,\n",
    ")"
   ]
  }
 ],
 "metadata": {
  "kernelspec": {
   "display_name": "cxrmate2-virga-venv",
   "language": "python",
   "name": "python3"
  },
  "language_info": {
   "codemirror_mode": {
    "name": "ipython",
    "version": 3
   },
   "file_extension": ".py",
   "mimetype": "text/x-python",
   "name": "python",
   "nbconvert_exporter": "python",
   "pygments_lexer": "ipython3",
   "version": "3.12.0"
  }
 },
 "nbformat": 4,
 "nbformat_minor": 2
}
