{
 "cells": [
  {
   "cell_type": "code",
   "execution_count": 1,
   "metadata": {},
   "outputs": [],
   "source": [
    "from cxrmate_ed.modelling_uniformer import UniFormerModel\n",
    "from cxrmate_ed.configuration_uniformer import UniFormerWithProjectionHeadConfig\n",
    "import torch\n",
    "import transformers"
   ]
  },
  {
   "cell_type": "code",
   "execution_count": 2,
   "metadata": {},
   "outputs": [
    {
     "data": {
      "text/plain": [
       "('4.40.2', '2.1.1')"
      ]
     },
     "execution_count": 2,
     "metadata": {},
     "output_type": "execute_result"
    }
   ],
   "source": [
    "transformers.__version__, torch.__version__"
   ]
  },
  {
   "cell_type": "code",
   "execution_count": 3,
   "metadata": {},
   "outputs": [],
   "source": [
    "# Hub checkpoint name:\n",
    "hub_ckpt_name = 'aehrc/uniformer_base_tl_384'\n",
    "ckpt_zoo_dir = '/datasets/work/hb-mlaifsp-mm/work/checkpoints'\n",
    "database_path = '/scratch3/nic261/database/mimic_iv_duckdb_rev_d.db'"
   ]
  },
  {
   "cell_type": "code",
   "execution_count": 4,
   "metadata": {},
   "outputs": [],
   "source": [
    "# Encoder-to-decoder instance:\n",
    "UniFormerModel.register_for_auto_class(\"AutoModel\")"
   ]
  },
  {
   "cell_type": "code",
   "execution_count": 5,
   "metadata": {},
   "outputs": [
    {
     "name": "stderr",
     "output_type": "stream",
     "text": [
      "/apps/pytorch/2.1.1-py312-cu122-mpi/lib/python3.12/site-packages/torch/_utils.py:831: UserWarning: TypedStorage is deprecated. It will be removed in the future and UntypedStorage will be the only storage class. This should only matter to you if you are using storages directly.  To access UntypedStorage directly, use tensor.untyped_storage() instead of tensor.storage()\n",
      "  return self.fget.__get__(instance, owner)()\n"
     ]
    }
   ],
   "source": [
    "# Encoder config:\n",
    "config_encoder = UniFormerWithProjectionHeadConfig()\n",
    "encoder_ckpt_name = 'uniformer_base_tl_384'\n",
    "\n",
    "encoder = UniFormerModel.from_pretrained(\n",
    "    f'{ckpt_zoo_dir}/{encoder_ckpt_name}', config=config_encoder\n",
    ")"
   ]
  },
  {
   "cell_type": "code",
   "execution_count": 6,
   "metadata": {},
   "outputs": [],
   "source": [
    "# for key in list(state_dict.keys()):\n",
    "#     if 'encoder_decoder.' in key:\n",
    "#         state_dict[key.replace('encoder_decoder.', '')] = state_dict.pop(key)\n",
    "#     else:\n",
    "#         warnings.warn(f'Key not found: {key}')"
   ]
  },
  {
   "cell_type": "code",
   "execution_count": 7,
   "metadata": {},
   "outputs": [],
   "source": [
    "# Load renamed state dict:\n",
    "# encoder_decoder.load_state_dict(state_dict)"
   ]
  },
  {
   "cell_type": "code",
   "execution_count": 8,
   "metadata": {},
   "outputs": [],
   "source": [
    "# Save model:\n",
    "save_path = '/scratch3/nic261/checkpoints/uniformer'\n",
    "encoder.save_pretrained(save_path)"
   ]
  },
  {
   "cell_type": "code",
   "execution_count": 9,
   "metadata": {},
   "outputs": [
    {
     "name": "stdout",
     "output_type": "stream",
     "text": [
      "The token has not been saved to the git credentials helper. Pass `add_to_git_credential=True` in this function directly or `--add-to-git-credential` if using via `huggingface-cli` if you want to set the git credential as well.\n",
      "Token is valid (permission: write).\n",
      "Your token has been saved to /scratch3/nic261/.cache/token\n",
      "Login successful\n"
     ]
    }
   ],
   "source": [
    "# Hub login:\n",
    "from huggingface_hub import login\n",
    "\n",
    "with open('/home/nic261/hf_token.txt', 'r') as f:\n",
    "    token = f.readline()\n",
    "login(token=token[:-1])\n",
    "del token"
   ]
  },
  {
   "cell_type": "code",
   "execution_count": 10,
   "metadata": {},
   "outputs": [
    {
     "data": {
      "application/vnd.jupyter.widget-view+json": {
       "model_id": "63a9b9af50584c0794a7f92785fc0000",
       "version_major": 2,
       "version_minor": 0
      },
      "text/plain": [
       "model.safetensors:   0%|          | 0.00/197M [00:00<?, ?B/s]"
      ]
     },
     "metadata": {},
     "output_type": "display_data"
    },
    {
     "data": {
      "text/plain": [
       "CommitInfo(commit_url='https://huggingface.co/aehrc/uniformer_base_tl_384/commit/f1ed0bfcaf05b85196f98a7adc69d91aa9f67c7c', commit_message='Upload model', commit_description='', oid='f1ed0bfcaf05b85196f98a7adc69d91aa9f67c7c', pr_url=None, pr_revision=None, pr_num=None)"
      ]
     },
     "execution_count": 10,
     "metadata": {},
     "output_type": "execute_result"
    }
   ],
   "source": [
    "# Push to hub:\n",
    "encoder.push_to_hub(hub_ckpt_name)"
   ]
  }
 ],
 "metadata": {
  "kernelspec": {
   "display_name": "cxrmate",
   "language": "python",
   "name": "python3"
  },
  "language_info": {
   "codemirror_mode": {
    "name": "ipython",
    "version": 3
   },
   "file_extension": ".py",
   "mimetype": "text/x-python",
   "name": "python",
   "nbconvert_exporter": "python",
   "pygments_lexer": "ipython3",
   "version": "3.12.0"
  },
  "orig_nbformat": 4
 },
 "nbformat": 4,
 "nbformat_minor": 2
}
